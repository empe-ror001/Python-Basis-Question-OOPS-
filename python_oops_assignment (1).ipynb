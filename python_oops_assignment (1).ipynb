{
  "cells": [
    {
      "cell_type": "markdown",
      "id": "074fd0bf",
      "metadata": {
        "id": "074fd0bf"
      },
      "source": [
        "# Python OOPs Assignment (Theory + Practical)\n",
        "\n",
        "## Theory Questions\n",
        "\n",
        "1. **What is Object-Oriented Programming (OOP)?**  \n",
        "OOP is a paradigm that organizes code into classes and objects. It focuses on data and methods.  \n",
        "Key principles: Encapsulation, Abstraction, Inheritance, Polymorphism.\n",
        "\n",
        "2. **What is a class in OOP?**  \n",
        "A class is a blueprint for creating objects.\n",
        "\n",
        "3. **What is an object in OOP?**  \n",
        "An object is an instance of a class created from a class blueprint.\n",
        "\n",
        "4. **Difference between abstraction and encapsulation?**  \n",
        "- Abstraction hides implementation details.  \n",
        "- Encapsulation restricts direct access to variables.\n",
        "\n",
        "5. **What are dunder methods?**  \n",
        "Special methods like `__init__`, `__str__`, `__add__` used to customize behavior.\n",
        "\n",
        "6. **Explain inheritance in OOP?**  \n",
        "Inheritance allows a class (child) to acquire properties and methods of another class (parent).\n",
        "\n",
        "7. **What is polymorphism in OOP?**  \n",
        "Same method behaves differently in different classes.\n",
        "\n",
        "8. **How is encapsulation achieved in Python?**  \n",
        "By using public, protected, and private attributes.\n",
        "\n",
        "9. **What is a constructor in Python?**  \n",
        "`__init__` method initializes object state when created.\n",
        "\n",
        "10. **What are class and static methods in Python?**  \n",
        "- Class methods use `@classmethod` and work on class-level data.  \n",
        "- Static methods use `@staticmethod` and work like normal functions inside class.\n",
        "\n",
        "11. **What is method overloading in Python?**  \n",
        "Python does not support directly, simulated with default arguments or *args.\n",
        "\n",
        "12. **What is method overriding in OOP?**  \n",
        "A child class provides its own implementation of a method already defined in its parent.\n",
        "\n",
        "13. **What is a property decorator in Python?**  \n",
        "`@property` is used to define getter and setter methods in an elegant way.\n",
        "\n",
        "14. **Why is polymorphism important in OOP?**  \n",
        "It provides flexibility, reusability, and extensibility.\n",
        "\n",
        "15. **What is an abstract class in Python?**  \n",
        "A class that cannot be instantiated and may contain abstract methods using abc module.\n",
        "\n",
        "16. **What are the advantages of OOP?**  \n",
        "Reusability, security, modularity, real-world modeling.\n",
        "\n",
        "17. **What is the difference between a class variable and an instance variable?**  \n",
        "Class variable shared by all objects, instance variable unique to each object.\n",
        "\n",
        "18. **What is multiple inheritance in Python?**  \n",
        "When a class inherits from more than one parent class.\n",
        "\n",
        "19. **Explain the purpose of __str__ and __repr__ methods.**  \n",
        "- `__str__` for human-readable output.  \n",
        "- `__repr__` for developer/debugging.\n",
        "\n",
        "20. **What is the significance of the super() function?**  \n",
        "Used to call methods from the parent class.\n",
        "\n",
        "21. **What is the significance of the __del__ method in Python?**  \n",
        "Destructor method called when object is deleted (used for cleanup).\n",
        "\n",
        "22. **What is the difference between @staticmethod and @classmethod?**  \n",
        "- `staticmethod`: no self/cls.  \n",
        "- `classmethod`: takes cls as first argument.\n",
        "\n",
        "23. **How does polymorphism work in Python with inheritance?**  \n",
        "By overriding parent methods in child classes.\n",
        "\n",
        "24. **What is method chaining in Python OOP?**  \n",
        "Allows multiple methods to be called in one line by returning self.\n",
        "\n",
        "25. **What is the purpose of the __call__ method in Python?**  \n",
        "Makes an object callable like a function.\n"
      ]
    },
    {
      "cell_type": "markdown",
      "id": "8da6dcdc",
      "metadata": {
        "id": "8da6dcdc"
      },
      "source": [
        "### Practical Question: 1. Animal -> Dog"
      ]
    },
    {
      "cell_type": "code",
      "execution_count": 8,
      "id": "e95cd1d5",
      "metadata": {
        "colab": {
          "base_uri": "https://localhost:8080/"
        },
        "id": "e95cd1d5",
        "outputId": "78ef22ee-e6e2-4a27-8428-9533888caf43"
      },
      "outputs": [
        {
          "output_type": "stream",
          "name": "stdout",
          "text": [
            "Bark!\n"
          ]
        }
      ],
      "source": [
        "class Animal:\n",
        "    def speak(self):\n",
        "        print(\"This is an animal sound.\")\n",
        "\n",
        "class Dog(Animal):\n",
        "    def speak(self):\n",
        "        print(\"Bark!\")\n",
        "\n",
        "Dog().speak()"
      ]
    },
    {
      "cell_type": "markdown",
      "id": "36c46857",
      "metadata": {
        "id": "36c46857"
      },
      "source": [
        "### Practical Question: 2. Abstract Shape -> Circle, Rectangle"
      ]
    },
    {
      "cell_type": "code",
      "execution_count": 9,
      "id": "7be933c4",
      "metadata": {
        "colab": {
          "base_uri": "https://localhost:8080/"
        },
        "id": "7be933c4",
        "outputId": "33e2256f-7375-49db-f279-2b53e3ffb38b"
      },
      "outputs": [
        {
          "output_type": "stream",
          "name": "stdout",
          "text": [
            "78.5\n",
            "24\n"
          ]
        }
      ],
      "source": [
        "from abc import ABC, abstractmethod\n",
        "\n",
        "class Shape(ABC):\n",
        "    @abstractmethod\n",
        "    def area(self): pass\n",
        "\n",
        "class Circle(Shape):\n",
        "    def __init__(self, radius): self.radius = radius\n",
        "    def area(self): return 3.14 * self.radius ** 2\n",
        "\n",
        "class Rectangle(Shape):\n",
        "    def __init__(self, length, width):\n",
        "        self.length = length; self.width = width\n",
        "    def area(self): return self.length * self.width\n",
        "\n",
        "print(Circle(5).area())\n",
        "print(Rectangle(4, 6).area())"
      ]
    },
    {
      "cell_type": "markdown",
      "id": "ae201305",
      "metadata": {
        "id": "ae201305"
      },
      "source": [
        "### Practical Question: 3. Vehicle -> Car -> ElectricCar"
      ]
    },
    {
      "cell_type": "code",
      "execution_count": 10,
      "id": "d62ad3fc",
      "metadata": {
        "colab": {
          "base_uri": "https://localhost:8080/"
        },
        "id": "d62ad3fc",
        "outputId": "9d686452-a546-4fbe-8c5f-be41251f7a7a"
      },
      "outputs": [
        {
          "output_type": "stream",
          "name": "stdout",
          "text": [
            "Car Tesla 100 kWh\n"
          ]
        }
      ],
      "source": [
        "class Vehicle:\n",
        "    def __init__(self, v_type): self.v_type = v_type\n",
        "\n",
        "class Car(Vehicle):\n",
        "    def __init__(self, brand, v_type=\"Car\"):\n",
        "        super().__init__(v_type); self.brand = brand\n",
        "\n",
        "class ElectricCar(Car):\n",
        "    def __init__(self, brand, battery):\n",
        "        super().__init__(brand); self.battery = battery\n",
        "\n",
        "ecar = ElectricCar(\"Tesla\", \"100 kWh\")\n",
        "print(ecar.v_type, ecar.brand, ecar.battery)"
      ]
    },
    {
      "cell_type": "markdown",
      "id": "5b5c43a6",
      "metadata": {
        "id": "5b5c43a6"
      },
      "source": [
        "### Practical Question: 4. Bird polymorphism"
      ]
    },
    {
      "cell_type": "code",
      "execution_count": 11,
      "id": "3a6c7505",
      "metadata": {
        "colab": {
          "base_uri": "https://localhost:8080/"
        },
        "id": "3a6c7505",
        "outputId": "372dd3e1-eedb-49f1-b5bb-d7746d815d6f"
      },
      "outputs": [
        {
          "output_type": "stream",
          "name": "stdout",
          "text": [
            "Sparrow flies high.\n",
            "Penguins cannot fly.\n"
          ]
        }
      ],
      "source": [
        "class Bird:\n",
        "    def fly(self): print(\"Birds can fly.\")\n",
        "class Sparrow(Bird):\n",
        "    def fly(self): print(\"Sparrow flies high.\")\n",
        "class Penguin(Bird):\n",
        "    def fly(self): print(\"Penguins cannot fly.\")\n",
        "\n",
        "for b in [Sparrow(), Penguin()]:\n",
        "    b.fly()"
      ]
    },
    {
      "cell_type": "markdown",
      "id": "15cb50d7",
      "metadata": {
        "id": "15cb50d7"
      },
      "source": [
        "### Practical Question: 5. Encapsulation BankAccount"
      ]
    },
    {
      "cell_type": "code",
      "execution_count": 12,
      "id": "93df247f",
      "metadata": {
        "colab": {
          "base_uri": "https://localhost:8080/"
        },
        "id": "93df247f",
        "outputId": "7456495a-e671-43b1-b884-679036480d54"
      },
      "outputs": [
        {
          "output_type": "stream",
          "name": "stdout",
          "text": [
            "700\n"
          ]
        }
      ],
      "source": [
        "class BankAccount:\n",
        "    def __init__(self): self.__balance = 0\n",
        "    def deposit(self, amount): self.__balance += amount\n",
        "    def withdraw(self, amount):\n",
        "        if amount <= self.__balance: self.__balance -= amount\n",
        "        else: print(\"Insufficient funds\")\n",
        "    def get_balance(self): return self.__balance\n",
        "\n",
        "acc = BankAccount()\n",
        "acc.deposit(1000)\n",
        "acc.withdraw(300)\n",
        "print(acc.get_balance())"
      ]
    },
    {
      "cell_type": "code",
      "source": [
        "# 6. Demonstrate runtime polymorphism using a method play() in a base class Instrument.\n",
        "#    Derive classes Guitar and Piano that implement their own version of play().\n",
        "class Instrument:\n",
        "    def play(self): print(\"Playing an instrument.\")\n",
        "\n",
        "class Guitar(Instrument):\n",
        "    def play(self): print(\"Playing the guitar.\")\n",
        "\n",
        "class Piano(Instrument):\n",
        "    def play(self): print(\"Playing the piano.\")\n",
        "\n",
        "for i in [Guitar(), Piano()]:\n",
        "    i.play()\n"
      ],
      "metadata": {
        "colab": {
          "base_uri": "https://localhost:8080/"
        },
        "id": "IoiydrCIL0gq",
        "outputId": "3af278af-1b92-471d-c26a-07c5cc76b7b0"
      },
      "id": "IoiydrCIL0gq",
      "execution_count": 13,
      "outputs": [
        {
          "output_type": "stream",
          "name": "stdout",
          "text": [
            "Playing the guitar.\n",
            "Playing the piano.\n"
          ]
        }
      ]
    },
    {
      "cell_type": "code",
      "source": [
        "# 7. Create a class MathOperations with a class method add_numbers() to add two numbers\n",
        "#    and a static method subtract_numbers() to subtract two numbers.\n",
        "class MathOperations:\n",
        "    @classmethod\n",
        "    def add_numbers(cls, a, b): return a + b\n",
        "\n",
        "    @staticmethod\n",
        "    def subtract_numbers(a, b): return a - b\n",
        "\n",
        "print(MathOperations.add_numbers(10, 5))\n",
        "print(MathOperations.subtract_numbers(10, 5))\n"
      ],
      "metadata": {
        "colab": {
          "base_uri": "https://localhost:8080/"
        },
        "id": "lH_CAaGhL2E5",
        "outputId": "bf255785-291d-4872-8483-8d4a74e2e766"
      },
      "id": "lH_CAaGhL2E5",
      "execution_count": 14,
      "outputs": [
        {
          "output_type": "stream",
          "name": "stdout",
          "text": [
            "15\n",
            "5\n"
          ]
        }
      ]
    },
    {
      "cell_type": "code",
      "source": [
        "# 8. Implement a class Person with a class method to count the total number of persons created.\n",
        "class Person:\n",
        "    count = 0\n",
        "    def __init__(self, name):\n",
        "        self.name = name\n",
        "        Person.count += 1\n",
        "\n",
        "    @classmethod\n",
        "    def total_persons(cls): return cls.count\n",
        "\n",
        "p1 = Person(\"A\")\n",
        "p2 = Person(\"B\")\n",
        "print(Person.total_persons())\n"
      ],
      "metadata": {
        "colab": {
          "base_uri": "https://localhost:8080/"
        },
        "id": "xhd5EEZlL42N",
        "outputId": "dc5e7240-a81a-4a61-c941-e71a7116d674"
      },
      "id": "xhd5EEZlL42N",
      "execution_count": 15,
      "outputs": [
        {
          "output_type": "stream",
          "name": "stdout",
          "text": [
            "2\n"
          ]
        }
      ]
    },
    {
      "cell_type": "code",
      "source": [
        "# 9. Write a class Fraction with attributes numerator and denominator.\n",
        "#    Override the __str__ method to display the fraction as \"numerator/denominator\".\n",
        "class Fraction:\n",
        "    def __init__(self, numerator, denominator):\n",
        "        self.numerator = numerator\n",
        "        self.denominator = denominator\n",
        "    def __str__(self): return f\"{self.numerator}/{self.denominator}\"\n",
        "\n",
        "print(Fraction(3, 4))\n"
      ],
      "metadata": {
        "colab": {
          "base_uri": "https://localhost:8080/"
        },
        "id": "1-hJVdzpMBCD",
        "outputId": "62729408-7f1a-4481-813f-ec71e88f7f64"
      },
      "id": "1-hJVdzpMBCD",
      "execution_count": 16,
      "outputs": [
        {
          "output_type": "stream",
          "name": "stdout",
          "text": [
            "3/4\n"
          ]
        }
      ]
    },
    {
      "cell_type": "code",
      "source": [
        "# 10. Demonstrate operator overloading by creating a class Vector and overriding the __add__ method to add two vectors.\n",
        "class Vector:\n",
        "    def __init__(self, x, y): self.x = x; self.y = y\n",
        "    def __add__(self, other): return Vector(self.x+other.x, self.y+other.y)\n",
        "    def __str__(self): return f\"({self.x}, {self.y})\"\n",
        "\n",
        "print(Vector(1,2) + Vector(3,4))\n"
      ],
      "metadata": {
        "colab": {
          "base_uri": "https://localhost:8080/"
        },
        "id": "WyalPDknMDpf",
        "outputId": "9dfd99f6-e62a-4542-fff2-01b98eb948d4"
      },
      "id": "WyalPDknMDpf",
      "execution_count": 17,
      "outputs": [
        {
          "output_type": "stream",
          "name": "stdout",
          "text": [
            "(4, 6)\n"
          ]
        }
      ]
    },
    {
      "cell_type": "code",
      "source": [
        "# 11. Create a class Person with attributes name and age.\n",
        "#     Add a method greet() that prints \"Hello, my name is {name} and I am {age} years old.\"\n",
        "class PersonGreet:\n",
        "    def __init__(self, name, age): self.name = name; self.age = age\n",
        "    def greet(self): print(f\"Hello, my name is {self.name} and I am {self.age} years old.\")\n",
        "\n",
        "PersonGreet(\"Vishnu\",21).greet()\n"
      ],
      "metadata": {
        "colab": {
          "base_uri": "https://localhost:8080/"
        },
        "id": "1zedGUvwMGMT",
        "outputId": "83ab3469-ff11-4bd1-c7df-886857cfc924"
      },
      "id": "1zedGUvwMGMT",
      "execution_count": 26,
      "outputs": [
        {
          "output_type": "stream",
          "name": "stdout",
          "text": [
            "Hello, my name is Vishnu and I am 21 years old.\n"
          ]
        }
      ]
    },
    {
      "cell_type": "code",
      "source": [
        "# 12. Implement a class Student with attributes name and grades.\n",
        "#     Create a method average_grade() to compute the average of the grades.\n",
        "class Student:\n",
        "    def __init__(self, name, grades): self.name = name; self.grades = grades\n",
        "    def average_grade(self): return sum(self.grades)/len(self.grades)\n",
        "\n",
        "print(Student(\"Bob\",[80,90,70]).average_grade())\n"
      ],
      "metadata": {
        "colab": {
          "base_uri": "https://localhost:8080/"
        },
        "id": "3ZUVlQfpMIdP",
        "outputId": "e89f7da6-5c1e-484a-820d-66562b24b6fe"
      },
      "id": "3ZUVlQfpMIdP",
      "execution_count": 19,
      "outputs": [
        {
          "output_type": "stream",
          "name": "stdout",
          "text": [
            "80.0\n"
          ]
        }
      ]
    },
    {
      "cell_type": "code",
      "source": [
        "# 13. Create a class Rectangle with methods set_dimensions() to set the dimensions and area() to calculate the area.\n",
        "class Rectangle2:\n",
        "    def set_dimensions(self, length, width):\n",
        "        self.length = length; self.width = width\n",
        "    def area(self): return self.length * self.width\n",
        "\n",
        "r = Rectangle2()\n",
        "r.set_dimensions(5,10)\n",
        "print(r.area())\n"
      ],
      "metadata": {
        "colab": {
          "base_uri": "https://localhost:8080/"
        },
        "id": "4yJz8jb8MKur",
        "outputId": "2d58319d-85d4-4c4e-86c5-c4a42db32eee"
      },
      "id": "4yJz8jb8MKur",
      "execution_count": 20,
      "outputs": [
        {
          "output_type": "stream",
          "name": "stdout",
          "text": [
            "50\n"
          ]
        }
      ]
    },
    {
      "cell_type": "code",
      "source": [
        "# 14. Create a class Employee with a method calculate_salary() that computes the salary\n",
        "#     based on hours worked and hourly rate. Create a derived class Manager that adds a bonus to the salary.\n",
        "class Employee:\n",
        "    def __init__(self, hours, rate): self.hours = hours; self.rate = rate\n",
        "    def calculate_salary(self): return self.hours * self.rate\n",
        "\n",
        "class Manager(Employee):\n",
        "    def __init__(self, hours, rate, bonus):\n",
        "        super().__init__(hours, rate)\n",
        "        self.bonus = bonus\n",
        "    def calculate_salary(self): return super().calculate_salary() + self.bonus\n",
        "\n",
        "print(Manager(160,50,5000).calculate_salary())\n"
      ],
      "metadata": {
        "colab": {
          "base_uri": "https://localhost:8080/"
        },
        "id": "u0sUImMXMMxb",
        "outputId": "229958f3-dfaa-478c-dbb2-b6f54feda7ca"
      },
      "id": "u0sUImMXMMxb",
      "execution_count": 21,
      "outputs": [
        {
          "output_type": "stream",
          "name": "stdout",
          "text": [
            "13000\n"
          ]
        }
      ]
    },
    {
      "cell_type": "code",
      "source": [
        "# 15. Create a class Product with attributes name, price, and quantity.\n",
        "#     Implement a method total_price() that calculates the total price of the product.\n",
        "class Product:\n",
        "    def __init__(self, name, price, quantity):\n",
        "        self.name = name; self.price = price; self.quantity = quantity\n",
        "    def total_price(self): return self.price * self.quantity\n",
        "\n",
        "print(Product(\"Laptop\",50000,2).total_price())\n"
      ],
      "metadata": {
        "colab": {
          "base_uri": "https://localhost:8080/"
        },
        "id": "_I6VoEPMMQzP",
        "outputId": "c338c9df-b911-48f6-bdd4-4aa20267d664"
      },
      "id": "_I6VoEPMMQzP",
      "execution_count": 22,
      "outputs": [
        {
          "output_type": "stream",
          "name": "stdout",
          "text": [
            "100000\n"
          ]
        }
      ]
    },
    {
      "cell_type": "code",
      "source": [
        "# 16. Create a class Animal with an abstract method sound().\n",
        "#     Create two derived classes Cow and Sheep that implement the sound() method.\n",
        "from abc import ABC, abstractmethod\n",
        "\n",
        "class AnimalAbs(ABC):\n",
        "    @abstractmethod\n",
        "    def sound(self): pass\n",
        "\n",
        "class Cow(AnimalAbs):\n",
        "    def sound(self): return \"Moo\"\n",
        "\n",
        "class Sheep(AnimalAbs):\n",
        "    def sound(self): return \"Baa\"\n",
        "\n",
        "print(Cow().sound())\n",
        "print(Sheep().sound())\n"
      ],
      "metadata": {
        "colab": {
          "base_uri": "https://localhost:8080/"
        },
        "id": "9_qG0nBcMTZR",
        "outputId": "1a81db98-e44d-40fe-f75c-7d02e55a0ba1"
      },
      "id": "9_qG0nBcMTZR",
      "execution_count": 23,
      "outputs": [
        {
          "output_type": "stream",
          "name": "stdout",
          "text": [
            "Moo\n",
            "Baa\n"
          ]
        }
      ]
    },
    {
      "cell_type": "code",
      "source": [
        "# 17. Create a class Book with attributes title, author, and year_published.\n",
        "#     Add a method get_book_info() that returns a formatted string with the book's details.\n",
        "class Book:\n",
        "    def __init__(self, title, author, year):\n",
        "        self.title = title; self.author = author; self.year = year\n",
        "    def get_book_info(self):\n",
        "        return f\"{self.title} by {self.author}, published in {self.year}\"\n",
        "\n",
        "print(Book(\"Python Basics\",\"John Doe\",2020).get_book_info())\n"
      ],
      "metadata": {
        "colab": {
          "base_uri": "https://localhost:8080/"
        },
        "id": "5EvSGHsYMWwt",
        "outputId": "4a31b093-d7d7-49d5-86d7-49058942c02e"
      },
      "id": "5EvSGHsYMWwt",
      "execution_count": 24,
      "outputs": [
        {
          "output_type": "stream",
          "name": "stdout",
          "text": [
            "Python Basics by John Doe, published in 2020\n"
          ]
        }
      ]
    },
    {
      "cell_type": "code",
      "source": [
        "# 18. Create a class House with attributes address and price.\n",
        "#     Create a derived class Mansion that adds an attribute number_of_rooms.\n",
        "class House:\n",
        "    def __init__(self, address, price): self.address = address; self.price = price\n",
        "\n",
        "class Mansion(House):\n",
        "    def __init__(self, address, price, rooms):\n",
        "        super().__init__(address, price)\n",
        "        self.rooms = rooms\n",
        "\n",
        "m = Mansion(\"123 Street\",500000,10)\n",
        "print(m.address, m.price, m.rooms)\n"
      ],
      "metadata": {
        "colab": {
          "base_uri": "https://localhost:8080/"
        },
        "id": "brJKfNnYMY8A",
        "outputId": "30fd1b9d-73bd-4254-bd98-cc01ea98c093"
      },
      "id": "brJKfNnYMY8A",
      "execution_count": 25,
      "outputs": [
        {
          "output_type": "stream",
          "name": "stdout",
          "text": [
            "123 Street 500000 10\n"
          ]
        }
      ]
    }
  ],
  "metadata": {
    "colab": {
      "provenance": []
    },
    "language_info": {
      "name": "python"
    },
    "kernelspec": {
      "name": "python3",
      "display_name": "Python 3"
    }
  },
  "nbformat": 4,
  "nbformat_minor": 5
}